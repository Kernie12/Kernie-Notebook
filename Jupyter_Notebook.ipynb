{
 "cells": [
  {
   "cell_type": "markdown",
   "metadata": {},
   "source": [
    "<center>\n",
    "    <img src=\"https://cf-courses-data.s3.us.cloud-object-storage.appdomain.cloud/IBMDeveloperSkillsNetwork-DS0105EN-SkillsNetwork/labs/Module2/images/SN_web_lightmode.png\" width=\"300\" alt=\"cognitiveclass.ai logo\">\n",
    "</center>\n"
   ]
  },
  {
   "cell_type": "markdown",
   "metadata": {},
   "source": [
    "# Hands-on Lab: Create your Jupyter Notebook\n"
   ]
  },
  {
   "cell_type": "markdown",
   "metadata": {},
   "source": [
    "#### Add your code below following the instructions given in the course\n"
   ]
  },
  {
   "cell_type": "markdown",
   "metadata": {},
   "source": [
    "# Excersie 2 Title\n",
    "\n",
    "\n",
    " Jupyter Notebook \n",
    "\n"
   ]
  },
  {
   "cell_type": "markdown",
   "metadata": {},
   "source": [
    "# excersise 3 \n",
    " Introduction to Jupyter Notebook a tool for data science "
   ]
  },
  {
   "cell_type": "markdown",
   "metadata": {},
   "source": [
    "# Exercise 4\n",
    "# List of data Science Languages \n",
    "1. PYTHON\n",
    "2. R\n",
    "3. SQL\n",
    "4. JAVA\n",
    "5. SCALA\n",
    "6. JULIA\n",
    "7. MATLAB\n",
    "8. C\n",
    "9. C++\n",
    "10. JAVASCRIPT\n",
    "11. SAS"
   ]
  },
  {
   "cell_type": "markdown",
   "metadata": {},
   "source": [
    "# Exercise 5\n",
    "# List of Data Science Libraries \n",
    "1. Python Libraries\n",
    "\t•\tData Manipulation & Analysis: Pandas, NumPy\n",
    "\t•\tMachine Learning: Scikit-learn, XGBoost, LightGBM, CatBoost\n",
    "\t•\tDeep Learning & AI: TensorFlow, PyTorch, Keras\n",
    "\t•\tData Visualization: Matplotlib, Seaborn, Plotly, Bokeh\n",
    "\t•\tBig Data & ETL: Dask, PySpark, Vaex\n",
    "\t•\tNatural Language Processing (NLP): NLTK, SpaCy, Transformers (Hugging Face)\n",
    "\t•\tTime Series Analysis: Statsmodels, Prophet\n",
    "\n",
    "2. R Libraries\n",
    "\t•\tData Manipulation: dplyr, tidyr, data.table\n",
    "\t•\tMachine Learning: caret, randomForest, xgboost\n",
    "\t•\tVisualization: ggplot2, plotly, lattice\n",
    "\t•\tStatistical Analysis: MASS, lmtest, forecast\n",
    "\n",
    "3. SQL & Big Data Tools\n",
    "\t•\tQuery Optimization: Apache Calcite, Presto\n",
    "\t•\tBig Data Processing: Apache Spark (PySpark, SparkR), Hadoop\n",
    "\n",
    "4. Java & Scala Libraries\n",
    "\t•\tMachine Learning: Weka, DeepLearning4J\n",
    "\t•\tBig Data: Apache Spark MLlib, H2O.ai\n",
    "\n",
    "5. JavaScript Libraries (for visualization & ML in the browser)\n",
    "\t•\tVisualization: D3.js, Chart.js\n",
    "\t•\tMachine Learning: TensorFlow.js, Brain.js\n"
   ]
  },
  {
   "cell_type": "markdown",
   "metadata": {},
   "source": [
    "# Exercise 7 \n",
    "# Arithmetic expression example \n",
    "\n",
    "Arithmtic expression examples when using jupyter note book can be for example; 3*4 would give you and output of 12"
   ]
  },
  {
   "cell_type": "markdown",
   "metadata": {},
   "source": [
    "# Exercise 6 \n",
    "# Table of Data Science Tools\n",
    "\n",
    "Category \tTools\r\n",
    "Programming Languages \tPython, R, SQL, Scala, Julia, Java, MATLAB\r\n",
    "Data Manipulation & Analysis\tPandas, NumPy, dplyr (R), Apache Spark, Vaex\r\n",
    "Machine Learning\tScikit-learn, XGBoost, LightGBM, H2O.ai, TensorFlow, PyTorch\r\n",
    "\r\n",
    "Deep Learning\tTensorFlow, Keras, PyTorch, MXNet, DeepLearning4J\r\n",
    "Data Visualization\t,Matplotlib, Seaborn, Plotly, ggplot2 (R), D3.js, Tableau, Power BI\r\n",
    "\r\n",
    "Databases & Querying,\tPostgreSQL, MySQL, MongoDB, Snowflake, BigQuery\r\n",
    "\r\n",
    "\r\n",
    "\r\n"
   ]
  },
  {
   "cell_type": "code",
   "execution_count": 16,
   "metadata": {},
   "outputs": [
    {
     "name": "stdout",
     "output_type": "stream",
     "text": [
      "5\n"
     ]
    }
   ],
   "source": [
    " A = 2\n",
    " B = 3\n",
    "print (A + B)"
   ]
  },
  {
   "cell_type": "code",
   "execution_count": 18,
   "metadata": {},
   "outputs": [
    {
     "name": "stdout",
     "output_type": "stream",
     "text": [
      "90\n"
     ]
    }
   ],
   "source": [
    "a = 30 \n",
    "b = 56\n",
    "print (a*B)"
   ]
  },
  {
   "cell_type": "code",
   "execution_count": 20,
   "metadata": {},
   "outputs": [
    {
     "name": "stdout",
     "output_type": "stream",
     "text": [
      "2.0\n"
     ]
    }
   ],
   "source": [
    " # exercise 8 converting minutes to hour\n",
    " # Hour = minutes/60\n",
    "\n",
    "minutes = 120\n",
    "\n",
    "hour = 120/60\n",
    "\n",
    "print(hour)\n"
   ]
  },
  {
   "cell_type": "markdown",
   "metadata": {},
   "source": [
    " # Exercise 10 \n",
    " # Objectives of a data scientist \n",
    " \n",
    " \n",
    " \n",
    "    1.\tData Collection & Processing – Gather, clean, and transform raw data for analysis.\n",
    "\t2.\tExploratory Data Analysis (EDA) – Identify patterns, trends, and anomalies in data.\n",
    "\t3.\tPredictive Modeling – Use machine learning and AI to forecast future trends.\n",
    "\t4.\tOptimization & Decision Support – Provide data-driven recommendations to improve business operations.\n",
    "\t5.\tAutomation & AI Implementation – Develop intelligent systems to streamline processes.\n",
    "\t6.\tData Visualization & Communication – Present insights using reports, dashboards, and visual tools.\n",
    "\t7.\tBig Data & Cloud Computing – Work with large datasets using scalable cloud solutions.\n",
    "\t8.\tMLOps & Deployment – Deploy and monitor machine learning models in production.\n",
    "\n"
   ]
  },
  {
   "cell_type": "markdown",
   "metadata": {},
   "source": [
    "# Exercise 11 \n",
    "Author's Name : Kolawole John Kehinde\n",
    " "
   ]
  },
  {
   "cell_type": "code",
   "execution_count": null,
   "metadata": {},
   "outputs": [],
   "source": []
  },
  {
   "cell_type": "code",
   "execution_count": null,
   "metadata": {},
   "outputs": [],
   "source": []
  },
  {
   "cell_type": "code",
   "execution_count": null,
   "metadata": {},
   "outputs": [],
   "source": []
  },
  {
   "cell_type": "code",
   "execution_count": null,
   "metadata": {},
   "outputs": [],
   "source": [
    "\n",
    "Copyright ©2024 IBM Corporation. All rights reserved.\n"
   ]
  }
 ],
 "metadata": {
  "kernelspec": {
   "display_name": "Python 3 (ipykernel)",
   "language": "python",
   "name": "python3"
  },
  "language_info": {
   "codemirror_mode": {
    "name": "ipython",
    "version": 3
   },
   "file_extension": ".py",
   "mimetype": "text/x-python",
   "name": "python",
   "nbconvert_exporter": "python",
   "pygments_lexer": "ipython3",
   "version": "3.11.7"
  },
  "prev_pub_hash": "9e1985db9844176462bd1d5863048c9f3d17404bbc6a648be9084b0c42b29347"
 },
 "nbformat": 4,
 "nbformat_minor": 4
}
